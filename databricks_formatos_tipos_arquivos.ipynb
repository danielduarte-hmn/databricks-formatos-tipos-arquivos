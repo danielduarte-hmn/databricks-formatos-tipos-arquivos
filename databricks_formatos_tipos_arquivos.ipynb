{
  "cells": [
    {
      "cell_type": "code",
      "execution_count": null,
      "metadata": {
        "id": "dM2PxRiGqq72"
      },
      "outputs": [],
      "source": [
        "display(dbutils.fs.ls(\"/FileStore/tables/\"))"
      ]
    },
    {
      "cell_type": "code",
      "execution_count": null,
      "metadata": {
        "id": "MtNxcR6-qq73"
      },
      "outputs": [],
      "source": [
        "dbutils.fs.mkdirs(\"/FileStore/tables/arquivos_curso\")"
      ]
    },
    {
      "cell_type": "code",
      "execution_count": null,
      "metadata": {
        "id": "uzNNJpF9qq74"
      },
      "outputs": [],
      "source": [
        "display(dbutils.fs.ls(\"/FileStore/tables/arquivos_curso\"))"
      ]
    },
    {
      "cell_type": "markdown",
      "metadata": {
        "id": "WnlXArYSqq74"
      },
      "source": [
        "# JSON"
      ]
    },
    {
      "cell_type": "markdown",
      "metadata": {
        "id": "sblh-4bFqq74"
      },
      "source": [
        "## Lendo um arquivo JSON"
      ]
    },
    {
      "cell_type": "code",
      "execution_count": null,
      "metadata": {
        "id": "_7mBbXbrqq75"
      },
      "outputs": [],
      "source": [
        "df = spark.read.json(\"/FileStore/tables/arquivos_curso/PNSB.json\")\n",
        "display(df)"
      ]
    },
    {
      "cell_type": "code",
      "execution_count": null,
      "metadata": {
        "id": "kxkTfuSwqq75"
      },
      "outputs": [],
      "source": [
        "df = df.withColumnRenamed(\"D1C\",\"cod_regiao\") \\\n",
        "       .withColumnRenamed(\"D1N\",\"regiao\") \\\n",
        "       .withColumnRenamed(\"D2C\",\"cod_variavel\") \\\n",
        "       .withColumnRenamed(\"D2N\",\"variavel\") \\\n",
        "       .withColumnRenamed(\"D3C\",\"cod_ano\") \\\n",
        "       .withColumnRenamed(\"D3N\",\"ano\") \\\n",
        "       .withColumnRenamed(\"D4C\",\"cod_doenca\") \\\n",
        "       .withColumnRenamed(\"D4N\",\"doenca\") \\\n",
        "       .withColumnRenamed(\"MC\",\"cod_medida\") \\\n",
        "       .withColumnRenamed(\"MN\",\"medida\") \\\n",
        "       .withColumnRenamed(\"NC\",\"cod_nivel_territorial\") \\\n",
        "       .withColumnRenamed(\"NN\",\"nivel_territorial\") \\\n",
        "       .withColumnRenamed(\"V\",\"valor\")\n",
        "\n",
        "\n",
        "display(df)"
      ]
    },
    {
      "cell_type": "code",
      "execution_count": null,
      "metadata": {
        "id": "XD2gni46qq75"
      },
      "outputs": [],
      "source": [
        "df = df.filter(df.valor!='Valor')\n",
        "display(df)"
      ]
    },
    {
      "cell_type": "code",
      "execution_count": null,
      "metadata": {
        "id": "eFn_YZF9qq75"
      },
      "outputs": [],
      "source": [
        "df.printSchema()"
      ]
    },
    {
      "cell_type": "code",
      "execution_count": null,
      "metadata": {
        "id": "LvJRUODUqq75"
      },
      "outputs": [],
      "source": [
        "from pyspark.sql.functions import col\n",
        "from pyspark.sql.types import IntegerType\n",
        "\n",
        "df_new = df.withColumn(\"cod_regiao\", col(\"cod_regiao\").cast(IntegerType())) \\\n",
        "           .withColumn(\"cod_variavel\", col(\"cod_variavel\").cast(IntegerType())) \\\n",
        "           .withColumn(\"cod_ano\", col(\"cod_ano\").cast(IntegerType())) \\\n",
        "           .withColumn(\"ano\", col(\"ano\").cast(IntegerType())) \\\n",
        "           .withColumn(\"cod_doenca\", col(\"cod_doenca\").cast(IntegerType())) \\\n",
        "           .withColumn(\"cod_medida\", col(\"cod_medida\").cast(IntegerType())) \\\n",
        "           .withColumn(\"cod_nivel_territorial\", col(\"cod_nivel_territorial\").cast(IntegerType())) \\\n",
        "           .withColumn(\"valor\", col(\"valor\").cast(IntegerType()))"
      ]
    },
    {
      "cell_type": "code",
      "execution_count": null,
      "metadata": {
        "id": "eq6grX15qq76"
      },
      "outputs": [],
      "source": [
        "df_new.printSchema()"
      ]
    },
    {
      "cell_type": "markdown",
      "metadata": {
        "id": "6oKMfrQBqq76"
      },
      "source": [
        "## Escrevendo um arquivo JSON"
      ]
    },
    {
      "cell_type": "code",
      "execution_count": null,
      "metadata": {
        "id": "kPoy0MWFqq76"
      },
      "outputs": [],
      "source": [
        "display(dbutils.fs.ls(\"/FileStore/tables/arquivos_curso\"))"
      ]
    },
    {
      "cell_type": "code",
      "execution_count": null,
      "metadata": {
        "id": "XiEfsl1lqq76"
      },
      "outputs": [],
      "source": [
        "df_new.write\\\n",
        "    .option(\"compression\", \"gzip\")\\\n",
        "    .mode(\"overwrite\") \\\n",
        "    .format(\"json\") \\\n",
        "    .save(\"/FileStore/tables/arquivos_curso/json_gzip/\")"
      ]
    },
    {
      "cell_type": "code",
      "execution_count": null,
      "metadata": {
        "id": "kIWbPhl8qq76"
      },
      "outputs": [],
      "source": [
        "df = spark.read \\\n",
        "  .option(\"compression\", \"gzip\") \\\n",
        "  .json(\"/FileStore/tables/arquivos_curso/json_gzip/\")\n",
        "\n",
        "display(df)"
      ]
    },
    {
      "cell_type": "code",
      "execution_count": null,
      "metadata": {
        "id": "GyZIakwTqq77"
      },
      "outputs": [],
      "source": [
        "df.write \\\n",
        "  .option(\"sep\", \",\") \\\n",
        "  .format(\"csv\") \\\n",
        "  .save(\"/FileStore/tables/arquivos_curso/pnsb_csv/\")"
      ]
    },
    {
      "cell_type": "code",
      "execution_count": null,
      "metadata": {
        "id": "r6QKYtxqqq77"
      },
      "outputs": [],
      "source": [
        "display(dbutils.fs.ls(\"/FileStore/tables/arquivos_curso/pnsb_csv\"))"
      ]
    },
    {
      "cell_type": "markdown",
      "metadata": {
        "id": "0lcp7Tl_qq77"
      },
      "source": [
        "# CSV"
      ]
    },
    {
      "cell_type": "markdown",
      "metadata": {
        "id": "qHAje1VDqq77"
      },
      "source": [
        "## Lendo um arquivo CSV"
      ]
    },
    {
      "cell_type": "code",
      "execution_count": null,
      "metadata": {
        "id": "lYSxELohqq77"
      },
      "outputs": [],
      "source": [
        "df_csv = spark.read.csv('/FileStore/tables/arquivos_curso/pnsb_csv')\n",
        "display(df_csv)"
      ]
    },
    {
      "cell_type": "code",
      "execution_count": null,
      "metadata": {
        "id": "Kfb25YQMqq77"
      },
      "outputs": [],
      "source": [
        "df.write \\\n",
        "  .option(\"sep\", \",\") \\\n",
        "  .option(\"header\", True) \\\n",
        "  .mode(\"overwrite\") \\\n",
        "  .format(\"csv\") \\\n",
        "  .save(\"/FileStore/tables/arquivos_curso/pnsb_csv/\")"
      ]
    },
    {
      "cell_type": "code",
      "execution_count": null,
      "metadata": {
        "id": "vcUJYJuIqq77"
      },
      "outputs": [],
      "source": [
        "df_csv = spark.read.csv('/FileStore/tables/arquivos_curso/pnsb_csv', header=True, inferSchema=True)\n",
        "display(df_csv)"
      ]
    },
    {
      "cell_type": "code",
      "execution_count": null,
      "metadata": {
        "id": "qLqZNiTZqq77"
      },
      "outputs": [],
      "source": [
        "df_csv.printSchema()"
      ]
    },
    {
      "cell_type": "markdown",
      "metadata": {
        "id": "e6E6U7bOqq78"
      },
      "source": [
        "## Escrevendo arquivo CSV com compressão\n"
      ]
    },
    {
      "cell_type": "code",
      "execution_count": null,
      "metadata": {
        "id": "4rqPuaGJqq78"
      },
      "outputs": [],
      "source": [
        "df_csv.write \\\n",
        "  .option(\"compression\", \"gzip\") \\\n",
        "  .option(\"header\",\"true\") \\\n",
        "  .option(\"sep\", \",\") \\\n",
        "  .format(\"csv\") \\\n",
        "  .save(\"/FileStore/tables/arquivos_curso/csv_gzip/\")"
      ]
    },
    {
      "cell_type": "code",
      "execution_count": null,
      "metadata": {
        "id": "AmbNOn2fqq78"
      },
      "outputs": [],
      "source": [
        "display(dbutils.fs.ls(\"/FileStore/tables/arquivos_curso/csv_gzip\"))"
      ]
    },
    {
      "cell_type": "code",
      "execution_count": null,
      "metadata": {
        "id": "HpPMAEMHqq78"
      },
      "outputs": [],
      "source": [
        "display(dbutils.fs.ls(\"/FileStore/tables/arquivos_curso/pnsb_csv\"))"
      ]
    },
    {
      "cell_type": "code",
      "execution_count": null,
      "metadata": {
        "id": "lSMlCu4Fqq78"
      },
      "outputs": [],
      "source": [
        "df = spark.read \\\n",
        "  .option(\"compression\", \"gzip\") \\\n",
        "  .option(\"header\",\"true\") \\\n",
        "  .option(\"inferSchema\", \"true\") \\\n",
        "  .option(\"sep\", \",\") \\\n",
        "  .csv(\"/FileStore/tables/arquivos_curso/csv_gzip\")\n",
        "\n",
        "display(df)"
      ]
    },
    {
      "cell_type": "markdown",
      "metadata": {
        "id": "hXDzCLA8qq78"
      },
      "source": [
        "# TXT"
      ]
    },
    {
      "cell_type": "markdown",
      "metadata": {
        "id": "2WqDTqVZqq78"
      },
      "source": [
        "## Salvando o DataFrame em txt"
      ]
    },
    {
      "cell_type": "code",
      "execution_count": null,
      "metadata": {
        "id": "4JjNzdaqqq78"
      },
      "outputs": [],
      "source": [
        "df = df.na.fill(value=0, subset=[\"valor\"])\n",
        "display(df)"
      ]
    },
    {
      "cell_type": "code",
      "execution_count": null,
      "metadata": {
        "id": "S2CDVIUhqq78"
      },
      "outputs": [],
      "source": [
        "df.write.text(\"/FileStore/tables/arquivos_curso/txt/\")"
      ]
    },
    {
      "cell_type": "code",
      "execution_count": null,
      "metadata": {
        "id": "RQHyfbPwqq78"
      },
      "outputs": [],
      "source": [
        "from pyspark.sql.functions import concat_ws\n",
        "\n",
        "df_uma_coluna = df.select(concat_ws(\"|\", *df.columns).alias('dados'))\n",
        "display(df_uma_coluna)"
      ]
    },
    {
      "cell_type": "code",
      "execution_count": null,
      "metadata": {
        "id": "DPWoS2p2qq78"
      },
      "outputs": [],
      "source": [
        "df_uma_coluna.write \\\n",
        "    .format(\"text\") \\\n",
        "    .mode(\"overwrite\") \\\n",
        "    .save(\"/FileStore/tables/arquivos_curso/txt/\")"
      ]
    },
    {
      "cell_type": "code",
      "execution_count": null,
      "metadata": {
        "id": "eN6d_fvdqq78"
      },
      "outputs": [],
      "source": [
        "display(dbutils.fs.ls(\"/FileStore/tables/arquivos_curso/txt/\"))"
      ]
    },
    {
      "cell_type": "code",
      "execution_count": null,
      "metadata": {
        "id": "SsPoRN3Lqq79"
      },
      "outputs": [],
      "source": [
        "df_text = spark.read.format(\"text\") \\\n",
        "  .load(\"/FileStore/tables/arquivos_curso/txt/\")\n",
        "\n",
        "display(df_text)"
      ]
    },
    {
      "cell_type": "code",
      "execution_count": null,
      "metadata": {
        "id": "HvUFtwE0qq79"
      },
      "outputs": [],
      "source": [
        "df_text = spark.read \\\n",
        "  .option(\"header\", \"false\") \\\n",
        "  .option(\"delimiter\", \"|\") \\\n",
        "  .option(\"inferSchema\", \"true\") \\\n",
        "  .format(\"csv\") \\\n",
        "  .load(\"/FileStore/tables/arquivos_curso/txt/\")\n",
        "\n",
        "display(df_text)"
      ]
    },
    {
      "cell_type": "code",
      "execution_count": null,
      "metadata": {
        "id": "AZoNJEyFqq79"
      },
      "outputs": [],
      "source": [
        "df_text_2 = df_text.withColumnRenamed(\"_c0\",\"ano\") \\\n",
        "       .withColumnRenamed(\"_c1\",\"cod_ano\") \\\n",
        "       .withColumnRenamed(\"_c2\",\"cod_doenca\") \\\n",
        "       .withColumnRenamed(\"_c3\",\"cod_medida\") \\\n",
        "       .withColumnRenamed(\"_c4\",\"cod_nivel_territorial\") \\\n",
        "       .withColumnRenamed(\"_c5\",\"cod_regiao\") \\\n",
        "       .withColumnRenamed(\"_c6\",\"cod_variavel\") \\\n",
        "       .withColumnRenamed(\"_c7\",\"doenca\") \\\n",
        "       .withColumnRenamed(\"_c8\",\"medida\") \\\n",
        "       .withColumnRenamed(\"_c9\",\"nivel_territorial\") \\\n",
        "       .withColumnRenamed(\"_c10\",\"regiao\") \\\n",
        "       .withColumnRenamed(\"_c11\",\"valor\") \\\n",
        "       .withColumnRenamed(\"_c12\",\"variavel\")\n",
        "\n",
        "display(df_text_2)"
      ]
    },
    {
      "cell_type": "markdown",
      "metadata": {
        "id": "pIZpt0fuqq79"
      },
      "source": [
        "## Salvando o arquivo txt comprimido"
      ]
    },
    {
      "cell_type": "code",
      "execution_count": null,
      "metadata": {
        "id": "4yhufrG6qq8B"
      },
      "outputs": [],
      "source": [
        "df_text_2.write \\\n",
        "  .mode(\"overwrite\") \\\n",
        "  .option(\"compression\", \"gzip\") \\\n",
        "  .format(\"text\") \\\n",
        "  .save(\"dbfs:/FileStore/tables/arquivos_curso/txt_gzip\")"
      ]
    },
    {
      "cell_type": "code",
      "execution_count": null,
      "metadata": {
        "id": "ayk4h3DFqq8C"
      },
      "outputs": [],
      "source": [
        "df_uma_coluna.write \\\n",
        "  .mode(\"overwrite\") \\\n",
        "  .option(\"compression\", \"gzip\") \\\n",
        "  .format(\"text\") \\\n",
        "  .save(\"dbfs:/FileStore/tables/arquivos_curso/txt_gzip\")"
      ]
    },
    {
      "cell_type": "code",
      "execution_count": null,
      "metadata": {
        "id": "u6NEBQarqq8C"
      },
      "outputs": [],
      "source": [
        "display(dbutils.fs.ls(\"/FileStore/tables/arquivos_curso/txt_gzip\"))"
      ]
    },
    {
      "cell_type": "code",
      "execution_count": null,
      "metadata": {
        "id": "c1wLqiIgqq8C"
      },
      "outputs": [],
      "source": [
        "display(dbutils.fs.ls(\"/FileStore/tables/arquivos_curso/txt/\"))"
      ]
    },
    {
      "cell_type": "code",
      "execution_count": null,
      "metadata": {
        "id": "8bYuniPmqq8C"
      },
      "outputs": [],
      "source": [
        "df = spark.read \\\n",
        "  .option(\"compression\", \"gzip\") \\\n",
        "  .option(\"inferSchema\", \"true\") \\\n",
        "  .option(\"sep\", \"|\") \\\n",
        "  .csv(\"/FileStore/tables/arquivos_curso/txt_gzip\")\n",
        "\n",
        "display(df)"
      ]
    },
    {
      "cell_type": "code",
      "execution_count": null,
      "metadata": {
        "id": "Gj3PXK4dqq8C"
      },
      "outputs": [],
      "source": [
        "df_renomeado = df.withColumnRenamed(\"_c0\",\"ano\") \\\n",
        "       .withColumnRenamed(\"_c1\",\"cod_ano\") \\\n",
        "       .withColumnRenamed(\"_c2\",\"cod_doenca\") \\\n",
        "       .withColumnRenamed(\"_c3\",\"cod_medida\") \\\n",
        "       .withColumnRenamed(\"_c4\",\"cod_nivel_territorial\") \\\n",
        "       .withColumnRenamed(\"_c5\",\"cod_regiao\") \\\n",
        "       .withColumnRenamed(\"_c6\",\"cod_variavel\") \\\n",
        "       .withColumnRenamed(\"_c7\",\"doenca\") \\\n",
        "       .withColumnRenamed(\"_c8\",\"medida\") \\\n",
        "       .withColumnRenamed(\"_c9\",\"nivel_territorial\") \\\n",
        "       .withColumnRenamed(\"_c10\",\"regiao\") \\\n",
        "       .withColumnRenamed(\"_c11\",\"valor\") \\\n",
        "       .withColumnRenamed(\"_c12\",\"variavel\")\n",
        "\n",
        "display(df_renomeado)"
      ]
    },
    {
      "cell_type": "code",
      "execution_count": null,
      "metadata": {
        "id": "S1atEGQsqq8C"
      },
      "outputs": [],
      "source": [
        "df_renomeado.write \\\n",
        "  .mode(\"overwrite\")\\\n",
        "  .format('avro') \\\n",
        "  .save(\"/FileStore/tables/arquivos_curso/avro/\")"
      ]
    },
    {
      "cell_type": "code",
      "execution_count": null,
      "metadata": {
        "id": "mMyGu-iVqq8C"
      },
      "outputs": [],
      "source": [
        "display(dbutils.fs.ls(\"/FileStore/tables/arquivos_curso/avro/\"))"
      ]
    },
    {
      "cell_type": "markdown",
      "metadata": {
        "id": "SF0nLsNPqq8C"
      },
      "source": [
        "# AVRO"
      ]
    },
    {
      "cell_type": "markdown",
      "metadata": {
        "id": "eRSA5LhPqq8C"
      },
      "source": [
        "## Lendo um arquivo no formato AVRO"
      ]
    },
    {
      "cell_type": "code",
      "execution_count": null,
      "metadata": {
        "id": "94QJWwQsqq8C"
      },
      "outputs": [],
      "source": [
        "df_avro = spark.read \\\n",
        "        .format(\"avro\") \\\n",
        "        .load(\"/FileStore/tables/arquivos_curso/avro\")\n",
        "\n",
        "display(df_avro)"
      ]
    },
    {
      "cell_type": "code",
      "execution_count": null,
      "metadata": {
        "id": "TLQzVsAJqq8D"
      },
      "outputs": [],
      "source": [
        "df_avro = spark.read \\\n",
        "        .format(\"avro\") \\\n",
        "        .load(\"/FileStore/tables/arquivos_curso/avro/\", pathGlobFilter=\"*.avro\")\n",
        "\n",
        "display(df_avro)"
      ]
    },
    {
      "cell_type": "markdown",
      "metadata": {
        "id": "Tlq4Vc8Oqq8D"
      },
      "source": [
        "## Escrevendo o arquivo AVRO com compressão"
      ]
    },
    {
      "cell_type": "code",
      "execution_count": null,
      "metadata": {
        "id": "QgZAYDV-qq8D"
      },
      "outputs": [],
      "source": [
        "df_avro.write \\\n",
        "  .mode(\"overwrite\") \\\n",
        "  .option(\"compression\", \"deflate\") \\\n",
        "  .format('avro') \\\n",
        "  .save(\"/FileStore/tables/arquivos_curso/avro_deflate\")"
      ]
    },
    {
      "cell_type": "code",
      "execution_count": null,
      "metadata": {
        "id": "aH6j1OCqqq8D"
      },
      "outputs": [],
      "source": [
        "display(dbutils.fs.ls(\"/FileStore/tables/arquivos_curso/avro_deflate\"))"
      ]
    },
    {
      "cell_type": "code",
      "execution_count": null,
      "metadata": {
        "id": "EgwGQuYOqq8D"
      },
      "outputs": [],
      "source": [
        "display(dbutils.fs.ls(\"/FileStore/tables/arquivos_curso/avro\"))"
      ]
    },
    {
      "cell_type": "code",
      "execution_count": null,
      "metadata": {
        "id": "yV4327a4qq8D"
      },
      "outputs": [],
      "source": [
        "spark.conf.set(\"spark.sql.avro.compression.codec\", \"deflate\")"
      ]
    },
    {
      "cell_type": "code",
      "execution_count": null,
      "metadata": {
        "id": "wNzt2qk4qq8D"
      },
      "outputs": [],
      "source": [
        "df_avro.write \\\n",
        "  .mode(\"overwrite\") \\\n",
        "  .format('avro') \\\n",
        "  .save(\"/FileStore/tables/arquivos_curso/avro_deflate2\")"
      ]
    },
    {
      "cell_type": "code",
      "execution_count": null,
      "metadata": {
        "id": "VkWg4f0dqq8D"
      },
      "outputs": [],
      "source": [
        "display(dbutils.fs.ls(\"/FileStore/tables/arquivos_curso/avro_deflate2\"))"
      ]
    },
    {
      "cell_type": "code",
      "execution_count": null,
      "metadata": {
        "id": "bW67A5bpqq8E"
      },
      "outputs": [],
      "source": [
        "spark.conf.set(\"spark.sql.avro.deflate.level\", \"8\")"
      ]
    },
    {
      "cell_type": "code",
      "execution_count": null,
      "metadata": {
        "id": "t3Zs5Jkrqq8E"
      },
      "outputs": [],
      "source": [
        "df_avro.write \\\n",
        "  .mode(\"overwrite\") \\\n",
        "  .format('avro') \\\n",
        "  .save(\"/FileStore/tables/arquivos_curso/avro_deflate2\")"
      ]
    },
    {
      "cell_type": "code",
      "execution_count": null,
      "metadata": {
        "id": "t-xNQR8Jqq8E"
      },
      "outputs": [],
      "source": [
        "display(dbutils.fs.ls(\"/FileStore/tables/arquivos_curso/avro_deflate2\"))"
      ]
    },
    {
      "cell_type": "markdown",
      "metadata": {
        "id": "G70T-mucqq8E"
      },
      "source": [
        "# PARQUET"
      ]
    },
    {
      "cell_type": "markdown",
      "metadata": {
        "id": "55Xq2obxqq8E"
      },
      "source": [
        "## Lendo e escrevendo arquivos PARQUET"
      ]
    },
    {
      "cell_type": "code",
      "execution_count": null,
      "metadata": {
        "id": "rJZUqn0Sqq8E"
      },
      "outputs": [],
      "source": [
        "df_avro.write \\\n",
        "  .mode(\"overwrite\") \\\n",
        "  .format('parquet') \\\n",
        "  .save(\"/FileStore/tables/arquivos_curso/parquet\")"
      ]
    },
    {
      "cell_type": "code",
      "execution_count": null,
      "metadata": {
        "id": "8o8JW_Vvqq8F"
      },
      "outputs": [],
      "source": [
        "display(dbutils.fs.ls(\"/FileStore/tables/arquivos_curso/parquet\"))"
      ]
    },
    {
      "cell_type": "code",
      "execution_count": null,
      "metadata": {
        "id": "PS5gEp16qq8F"
      },
      "outputs": [],
      "source": [
        "df_avro.write \\\n",
        "  .mode(\"overwrite\") \\\n",
        "  .option(\"compression\", \"gzip\") \\\n",
        "  .format('parquet') \\\n",
        "  .save(\"/FileStore/tables/arquivos_curso/parquet_gzip\")"
      ]
    },
    {
      "cell_type": "code",
      "execution_count": null,
      "metadata": {
        "id": "D_Xh50_Rqq8F"
      },
      "outputs": [],
      "source": [
        "display(dbutils.fs.ls(\"/FileStore/tables/arquivos_curso/parquet_gzip\"))"
      ]
    },
    {
      "cell_type": "code",
      "execution_count": null,
      "metadata": {
        "id": "6U6lf5Pyqq8F"
      },
      "outputs": [],
      "source": [
        "df_parquet = spark.read.format(\"parquet\") \\\n",
        "  .load(\"/FileStore/tables/arquivos_curso/parquet_gzip\", compression='gzip')\n",
        "\n",
        "display(df_parquet)"
      ]
    },
    {
      "cell_type": "markdown",
      "metadata": {
        "id": "_KYI-sP7qq8G"
      },
      "source": [
        "# Particionamento"
      ]
    },
    {
      "cell_type": "code",
      "execution_count": null,
      "metadata": {
        "id": "L2KFgpcLqq8G"
      },
      "outputs": [],
      "source": [
        "df_parquet.select(\"cod_doenca\").distinct().show()"
      ]
    },
    {
      "cell_type": "code",
      "execution_count": null,
      "metadata": {
        "id": "hVCWOQ3kqq8G"
      },
      "outputs": [],
      "source": [
        "df_parquet.select(\"nivel_territorial\").distinct().show()"
      ]
    },
    {
      "cell_type": "code",
      "execution_count": null,
      "metadata": {
        "id": "DDGkF_Wsqq8G"
      },
      "outputs": [],
      "source": [
        "df_parquet.write\\\n",
        "    .partitionBy(\"nivel_territorial\")\\\n",
        "    .mode(\"overwrite\")\\\n",
        "    .parquet(\"/FileStore/tables/arquivos_curso/parquet_particionado\")"
      ]
    },
    {
      "cell_type": "code",
      "execution_count": null,
      "metadata": {
        "id": "kvNugZPaqq8G"
      },
      "outputs": [],
      "source": [
        "display(dbutils.fs.ls(\"/FileStore/tables/arquivos_curso/parquet_particionado\"))"
      ]
    },
    {
      "cell_type": "code",
      "execution_count": null,
      "metadata": {
        "id": "z9w1JByBqq8G"
      },
      "outputs": [],
      "source": [
        "display(dbutils.fs.ls(\"/FileStore/tables/arquivos_curso/parquet_particionado/nivel_territorial=Brasil\"))"
      ]
    },
    {
      "cell_type": "code",
      "execution_count": null,
      "metadata": {
        "id": "kie3Q2wLqq8G"
      },
      "outputs": [],
      "source": [
        "df_parquet.write\\\n",
        "    .partitionBy(\"nivel_territorial\", \"cod_doenca\")\\\n",
        "    .mode(\"overwrite\")\\\n",
        "    .parquet(\"/FileStore/tables/arquivos_curso/parquet_multi_particionado\")"
      ]
    },
    {
      "cell_type": "code",
      "execution_count": null,
      "metadata": {
        "id": "heHOVhRNqq8G"
      },
      "outputs": [],
      "source": [
        "display(dbutils.fs.ls(\"FileStore/tables/arquivos_curso/parquet_multi_particionado\"))"
      ]
    },
    {
      "cell_type": "code",
      "execution_count": null,
      "metadata": {
        "id": "XYdFZehKqq8G"
      },
      "outputs": [],
      "source": [
        "display(dbutils.fs.ls(\"/FileStore/tables/arquivos_curso/parquet_multi_particionado/nivel_territorial=Grande Região/\"))"
      ]
    },
    {
      "cell_type": "code",
      "execution_count": null,
      "metadata": {
        "id": "B-Q5u_3rqq8H"
      },
      "outputs": [],
      "source": [
        "df_120943 = spark.read\\\n",
        "     .parquet('/FileStore/tables/arquivos_curso/parquet_multi_particionado/nivel_territorial=Grande Região/cod_doenca=120943/')\n",
        "\n",
        "\n",
        "display(df_120943)"
      ]
    },
    {
      "cell_type": "code",
      "execution_count": null,
      "metadata": {
        "id": "ZgMil02Cqq8H"
      },
      "outputs": [],
      "source": [
        "df = spark.read\\\n",
        "    .parquet('/FileStore/tables/arquivos_curso/parquet_particionado')\n",
        "\n",
        "display(df)"
      ]
    },
    {
      "cell_type": "markdown",
      "metadata": {
        "id": "qXuhioutqq8H"
      },
      "source": [
        "# ORC"
      ]
    },
    {
      "cell_type": "markdown",
      "metadata": {
        "id": "i6Y8gqL6qq8H"
      },
      "source": [
        "## Escrevendo e lendo arquivos ORC"
      ]
    },
    {
      "cell_type": "code",
      "execution_count": null,
      "metadata": {
        "id": "a-6VpNgrqq8H"
      },
      "outputs": [],
      "source": [
        "df.write \\\n",
        "  .format('orc') \\\n",
        "  .save(\"/FileStore/tables/arquivos_curso/orc\")"
      ]
    },
    {
      "cell_type": "code",
      "execution_count": null,
      "metadata": {
        "id": "BT4MK3Rwqq8H"
      },
      "outputs": [],
      "source": [
        "display(dbutils.fs.ls(\"/FileStore/tables/arquivos_curso/orc\"))"
      ]
    },
    {
      "cell_type": "code",
      "execution_count": null,
      "metadata": {
        "id": "75M-QJX-qq8H"
      },
      "outputs": [],
      "source": [
        "df.write.format(\"orc\") \\\n",
        "    .mode(\"overwrite\") \\\n",
        "    .option(\"compression\", \"zlib\") \\\n",
        "    .save(\"/FileStore/tables/arquivos_curso/orc_zlib\")"
      ]
    },
    {
      "cell_type": "code",
      "execution_count": null,
      "metadata": {
        "id": "ccQqNCh0qq8H"
      },
      "outputs": [],
      "source": [
        "display(dbutils.fs.ls(\"/FileStore/tables/arquivos_curso/orc_zlib\"))"
      ]
    },
    {
      "cell_type": "code",
      "execution_count": null,
      "metadata": {
        "id": "r3XSXDeUqq8H"
      },
      "outputs": [],
      "source": [
        "df_orc = spark.read\\\n",
        "  .option(\"compression\", \"zlib\") \\\n",
        "  .format(\"orc\") \\\n",
        "  .load(\"/FileStore/tables/arquivos_curso/orc_zlib\")\n",
        "\n",
        "display(df_orc)"
      ]
    },
    {
      "cell_type": "markdown",
      "metadata": {
        "id": "2lQaAE-Mqq8I"
      },
      "source": [
        "## Agrupando as partições criadas"
      ]
    },
    {
      "cell_type": "code",
      "execution_count": null,
      "metadata": {
        "id": "8k00ZGTyqq8I"
      },
      "outputs": [],
      "source": [
        "df_orc.coalesce(1)\\\n",
        " .write \\\n",
        " .format(\"orc\") \\\n",
        " .mode(\"overwrite\") \\\n",
        " .save(\"/FileStore/tables/arquivos_curso/orc_junto_snappy\")"
      ]
    },
    {
      "cell_type": "code",
      "execution_count": null,
      "metadata": {
        "id": "XM47wshyqq8I"
      },
      "outputs": [],
      "source": [
        "display(dbutils.fs.ls(\"/FileStore/tables/arquivos_curso/orc_junto_snappy\"))"
      ]
    },
    {
      "cell_type": "code",
      "execution_count": null,
      "metadata": {
        "id": "U-Zn2PAVqq8I"
      },
      "outputs": [],
      "source": [
        "df_orc.coalesce(1)\\\n",
        " .write \\\n",
        " .format(\"orc\") \\\n",
        " .mode(\"overwrite\") \\\n",
        " .option(\"compression\", \"zlib\") \\\n",
        " .save(\"/FileStore/tables/arquivos_curso/orc_junto_zlib\")"
      ]
    },
    {
      "cell_type": "code",
      "execution_count": null,
      "metadata": {
        "id": "5nq8qbqZqq8I"
      },
      "outputs": [],
      "source": [
        "display(dbutils.fs.ls(\"/FileStore/tables/arquivos_curso/orc_junto_zlib\"))"
      ]
    },
    {
      "cell_type": "code",
      "execution_count": null,
      "metadata": {
        "id": "ykXAo6Bvqq8I"
      },
      "outputs": [],
      "source": [
        "df_orc_zlib = spark.read \\\n",
        "  .option(\"compression\", \"zlib\") \\\n",
        "  .orc(\"/FileStore/tables/arquivos_curso/orc_junto_zlib\")\n",
        "\n",
        "display(df_orc_zlib)"
      ]
    }
  ],
  "metadata": {
    "kernelspec": {
      "display_name": "base",
      "language": "python",
      "name": "python3"
    },
    "language_info": {
      "codemirror_mode": {
        "name": "ipython",
        "version": 3
      },
      "file_extension": ".py",
      "mimetype": "text/x-python",
      "name": "python",
      "nbconvert_exporter": "python",
      "pygments_lexer": "ipython3",
      "version": "3.9.12 (main, Apr  4 2022, 05:22:27) [MSC v.1916 64 bit (AMD64)]"
    },
    "orig_nbformat": 4,
    "vscode": {
      "interpreter": {
        "hash": "59b23a439ce858f6c48b87cdc3961c05fe34c6c004d414990b7e953144d53d79"
      }
    },
    "colab": {
      "provenance": []
    }
  },
  "nbformat": 4,
  "nbformat_minor": 0
}